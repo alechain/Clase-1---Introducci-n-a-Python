{
 "cells": [
  {
   "cell_type": "markdown",
   "metadata": {},
   "source": [
    "# Introducción a Python\n",
    "Fuente: https://es.wikipedia.org/wiki/Python\n",
    "\n",
    "* Lenguaje de programación interpretado.\n",
    "* Su filosofía hace hincapié en una sintaxis que favorezca un código legible\n",
    "* Se trata de un lenguaje fuertemente orientado a objetos.\n",
    "* Es un lenguaje interpretado\n",
    "* usa tipado dinámico: las variables pueden cambiar su tipo a medida que avanza el programa\n",
    "* Es multiplataforma: Hay intérpretes para distintos sistemas operativos, que corren en distintos hardwares. De\n",
    "\n",
    "## Lenguaje compilado vs. interpretado\n",
    "\n",
    "### Lenguaje compilado\n",
    "\n",
    "* Un lenguaje compilado es un lenguaje de programación cuyas implementaciones son normalmente compiladores (traductores que generan código de máquina a partir del código fuente) y no intérpretes (ejecutores paso a paso del código fuente, donde no se lleva a cabo una traducción en la preejecución).\n",
    "\n",
    "<img src='imgs/compilador.png' >\n",
    "\n",
    "### Lenguaje interpretado\n",
    "\n",
    "*  Es el lenguaje cuyo código no necesita ser preprocesado mediante un compilador, eso significa que el ordenador es capaz de ejecutar la sucesión de instrucciones dadas por el programador sin necesidad de leer y traducir exhaustivamente todo el código.\n",
    "\n",
    "## Lenguaje orientado a objetos\n",
    "\n",
    "* Permite definir tipos de datos nuevos. Los tipos de datos más comunes son: números enteros, números con signo (negativos), números de coma flotante (decimales), cadenas alfanuméricas (y unicodes).\n",
    "* Permite definir operaciones nuevas para estos tipos de datos.\n",
    "* Permite asignar estos tipos de datos nuevos a variables (instanciar).\n",
    "\n",
    "\n",
    "\n"
   ]
  },
  {
   "cell_type": "markdown",
   "metadata": {},
   "source": [
    "## Invocando al intérprete \n",
    "\n",
    "http://docs.python.org.ar/tutorial/3/interpreter.html\n",
    "\n",
    "## Introducción informal a Python\n",
    "\n",
    "http://docs.python.org.ar/tutorial/3/introduction.html"
   ]
  }
 ],
 "metadata": {
  "kernelspec": {
   "display_name": "Python 3",
   "language": "python",
   "name": "python3"
  },
  "language_info": {
   "codemirror_mode": {
    "name": "ipython",
    "version": 3
   },
   "file_extension": ".py",
   "mimetype": "text/x-python",
   "name": "python",
   "nbconvert_exporter": "python",
   "pygments_lexer": "ipython3",
   "version": "3.8.8"
  }
 },
 "nbformat": 4,
 "nbformat_minor": 4
}
